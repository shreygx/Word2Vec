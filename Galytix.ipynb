{
  "nbformat": 4,
  "nbformat_minor": 0,
  "metadata": {
    "colab": {
      "provenance": [],
      "gpuType": "T4"
    },
    "kernelspec": {
      "name": "python3",
      "display_name": "Python 3"
    },
    "language_info": {
      "name": "python"
    },
    "accelerator": "GPU"
  },
  "cells": [
    {
      "cell_type": "code",
      "execution_count": 19,
      "metadata": {
        "id": "TghtudQ3V5H3"
      },
      "outputs": [],
      "source": [
        "import pandas as pd\n",
        "import numpy as np\n",
        "import gzip\n",
        "import shutil\n",
        "from sklearn.metrics.pairwise import euclidean_distances, cosine_similarity\n",
        "from scipy.spatial.distance import euclidean\n"
      ]
    },
    {
      "cell_type": "code",
      "source": [
        "from google.colab import drive\n",
        "\n",
        "drive.mount('/content/drive')"
      ],
      "metadata": {
        "colab": {
          "base_uri": "https://localhost:8080/"
        },
        "id": "ewRHarTVb31J",
        "outputId": "550c042b-3098-4e3b-f3c8-591e3ed3f31f"
      },
      "execution_count": 2,
      "outputs": [
        {
          "output_type": "stream",
          "name": "stdout",
          "text": [
            "Mounted at /content/drive\n"
          ]
        }
      ]
    },
    {
      "cell_type": "code",
      "source": [
        "from gensim.models import KeyedVectors\n",
        "import gzip\n",
        "import numpy as np\n"
      ],
      "metadata": {
        "id": "fObGcnTecL60"
      },
      "execution_count": 3,
      "outputs": []
    },
    {
      "cell_type": "code",
      "source": [
        "\n",
        "from gensim.models import KeyedVectors\n",
        "from smart_open import open\n",
        "from gensim.models import word2vec\n",
        "import gensim.models"
      ],
      "metadata": {
        "id": "D2oANKjffLiN"
      },
      "execution_count": 4,
      "outputs": []
    },
    {
      "cell_type": "code",
      "source": [
        "model = KeyedVectors.load_word2vec_format('/content/drive/MyDrive/GoogleNews-vectors-negative300.bin.gz', binary=True)"
      ],
      "metadata": {
        "id": "suUz5VXoeZID"
      },
      "execution_count": 5,
      "outputs": []
    },
    {
      "cell_type": "code",
      "source": [
        "model.save_word2vec_format('vectors.csv')"
      ],
      "metadata": {
        "id": "VDe05sxIiIZ2"
      },
      "execution_count": 6,
      "outputs": []
    },
    {
      "cell_type": "code",
      "source": [
        "phrases_df = pd.read_csv('/content/phrases2.csv', header=None, names=['Phrase'])\n",
        "phrases = phrases_df['Phrase'].tolist()"
      ],
      "metadata": {
        "id": "C5ud5W6xoxkg"
      },
      "execution_count": 11,
      "outputs": []
    },
    {
      "cell_type": "code",
      "source": [
        "def calculate_phrase_embedding(phrase):\n",
        "    words = phrase.split()\n",
        "    valid_words = [word for word in words if word in model]\n",
        "    if not valid_words:\n",
        "        return np.zeros(model.vector_size)\n",
        "    word_embeddings = [model[word] for word in valid_words]\n",
        "    normalized_sum = np.sum(word_embeddings, axis=0) / np.linalg.norm(np.sum(word_embeddings, axis=0))\n",
        "    return normalized_sum"
      ],
      "metadata": {
        "id": "VvWIJGRzsDgS"
      },
      "execution_count": 12,
      "outputs": []
    },
    {
      "cell_type": "code",
      "source": [
        "phrases_df['Embedding'] = phrases_df['Phrase'].apply(calculate_phrase_embedding)\n"
      ],
      "metadata": {
        "id": "IzARWkizu0Oy"
      },
      "execution_count": 13,
      "outputs": []
    },
    {
      "cell_type": "code",
      "source": [
        "phrases_df.drop(0)"
      ],
      "metadata": {
        "id": "6XtzxK79u6wT"
      },
      "execution_count": null,
      "outputs": []
    },
    {
      "cell_type": "code",
      "source": [
        "def calculate_euclidean_distance(emb1, emb2):\n",
        "    return euclidean(emb1, emb2)"
      ],
      "metadata": {
        "id": "2KrIW3jXvN8F"
      },
      "execution_count": 16,
      "outputs": []
    },
    {
      "cell_type": "code",
      "source": [
        "def calculate_cosine_similarity(emb1, emb2):\n",
        "    return cosine_similarity([emb1], [emb2])[0][0]"
      ],
      "metadata": {
        "id": "AZQKQbzAvST3"
      },
      "execution_count": 17,
      "outputs": []
    },
    {
      "cell_type": "code",
      "source": [
        "phrases_embeddings = np.vstack(phrases_df['Embedding'].to_numpy())\n",
        "euclidean_distances_matrix = euclidean_distances(phrases_embeddings)\n",
        "cosine_similarity_matrix = cosine_similarity(phrases_embeddings)\n"
      ],
      "metadata": {
        "id": "N4214fzAvULi"
      },
      "execution_count": 20,
      "outputs": []
    },
    {
      "cell_type": "code",
      "source": [
        "euclidean_distances_df = pd.DataFrame(euclidean_distances_matrix, index=phrases, columns=phrases)\n",
        "cosine_similarity_df = pd.DataFrame(cosine_similarity_matrix, index=phrases, columns=phrases)"
      ],
      "metadata": {
        "id": "onSzjwxMvWbm"
      },
      "execution_count": 21,
      "outputs": []
    },
    {
      "cell_type": "code",
      "source": [
        "def find_closest_match(input_phrase, distance_metric='cosine'):\n",
        "    input_embedding = calculate_phrase_embedding(input_phrase)\n",
        "\n",
        "    if distance_metric == 'cosine':\n",
        "        distances = [calculate_cosine_similarity(input_embedding, emb) for emb in phrases_embeddings]\n",
        "    elif distance_metric == 'euclidean':\n",
        "        distances = [calculate_euclidean_distance(input_embedding, emb) for emb in phrases_embeddings]\n",
        "    else:\n",
        "        raise ValueError(\"Invalid distance metric. Choose 'cosine' or 'euclidean'.\")\n",
        "\n",
        "    closest_index = np.argmin(distances)\n",
        "    closest_phrase = phrases[closest_index]\n",
        "    closest_distance = distances[closest_index]\n",
        "\n",
        "    return closest_phrase, closest_distance"
      ],
      "metadata": {
        "id": "3pxmVutzvjan"
      },
      "execution_count": 23,
      "outputs": []
    },
    {
      "cell_type": "code",
      "source": [
        "user_input = \"How does the forecasted insurance premium penetration in country trend ?\"\n",
        "closest_phrase, distance = find_closest_match(user_input, distance_metric='cosine')\n",
        "print(f\"The closest phrase to '{user_input}' is '{closest_phrase}' with a cosine distance of {distance}\")"
      ],
      "metadata": {
        "colab": {
          "base_uri": "https://localhost:8080/"
        },
        "id": "Mqf2jBQKvpd6",
        "outputId": "7d4926ba-c10e-40c5-f528-b8481caad011"
      },
      "execution_count": 25,
      "outputs": [
        {
          "output_type": "stream",
          "name": "stdout",
          "text": [
            "The closest phrase to 'How does the forecasted insurance premium penetration in country trend ?' is 'Kdo je nejv?tší konkurent ?eské Pojiš?ovny?' with a cosine distance of 0.07572324573993683\n"
          ]
        }
      ]
    },
    {
      "cell_type": "code",
      "source": [],
      "metadata": {
        "id": "YrTlT5B_vwAS"
      },
      "execution_count": null,
      "outputs": []
    }
  ]
}